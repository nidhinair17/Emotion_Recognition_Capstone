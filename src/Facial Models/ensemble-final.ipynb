{
 "cells": [
  {
   "cell_type": "code",
   "execution_count": 1,
   "id": "03e602a6-7e1e-4134-9434-a130d908c0db",
   "metadata": {
    "execution": {
     "iopub.execute_input": "2025-04-16T06:41:11.573476Z",
     "iopub.status.busy": "2025-04-16T06:41:11.572654Z",
     "iopub.status.idle": "2025-04-16T06:41:18.758514Z",
     "shell.execute_reply": "2025-04-16T06:41:18.757546Z",
     "shell.execute_reply.started": "2025-04-16T06:41:11.573450Z"
    },
    "trusted": true
   },
   "outputs": [
    {
     "name": "stdout",
     "output_type": "stream",
     "text": [
      "Collecting scikit-learn==1.6.1\n",
      "  Downloading scikit_learn-1.6.1-cp311-cp311-manylinux_2_17_x86_64.manylinux2014_x86_64.whl.metadata (18 kB)\n",
      "Requirement already satisfied: numpy>=1.19.5 in /usr/local/lib/python3.11/dist-packages (from scikit-learn==1.6.1) (1.26.4)\n",
      "Requirement already satisfied: scipy>=1.6.0 in /usr/local/lib/python3.11/dist-packages (from scikit-learn==1.6.1) (1.15.2)\n",
      "Requirement already satisfied: joblib>=1.2.0 in /usr/local/lib/python3.11/dist-packages (from scikit-learn==1.6.1) (1.4.2)\n",
      "Requirement already satisfied: threadpoolctl>=3.1.0 in /usr/local/lib/python3.11/dist-packages (from scikit-learn==1.6.1) (3.6.0)\n",
      "Requirement already satisfied: mkl_fft in /usr/local/lib/python3.11/dist-packages (from numpy>=1.19.5->scikit-learn==1.6.1) (1.3.8)\n",
      "Requirement already satisfied: mkl_random in /usr/local/lib/python3.11/dist-packages (from numpy>=1.19.5->scikit-learn==1.6.1) (1.2.4)\n",
      "Requirement already satisfied: mkl_umath in /usr/local/lib/python3.11/dist-packages (from numpy>=1.19.5->scikit-learn==1.6.1) (0.1.1)\n",
      "Requirement already satisfied: mkl in /usr/local/lib/python3.11/dist-packages (from numpy>=1.19.5->scikit-learn==1.6.1) (2025.1.0)\n",
      "Requirement already satisfied: tbb4py in /usr/local/lib/python3.11/dist-packages (from numpy>=1.19.5->scikit-learn==1.6.1) (2022.1.0)\n",
      "Requirement already satisfied: mkl-service in /usr/local/lib/python3.11/dist-packages (from numpy>=1.19.5->scikit-learn==1.6.1) (2.4.1)\n",
      "Requirement already satisfied: intel-openmp<2026,>=2024 in /usr/local/lib/python3.11/dist-packages (from mkl->numpy>=1.19.5->scikit-learn==1.6.1) (2024.2.0)\n",
      "Requirement already satisfied: tbb==2022.* in /usr/local/lib/python3.11/dist-packages (from mkl->numpy>=1.19.5->scikit-learn==1.6.1) (2022.1.0)\n",
      "Requirement already satisfied: tcmlib==1.* in /usr/local/lib/python3.11/dist-packages (from tbb==2022.*->mkl->numpy>=1.19.5->scikit-learn==1.6.1) (1.2.0)\n",
      "Requirement already satisfied: intel-cmplr-lib-rt in /usr/local/lib/python3.11/dist-packages (from mkl_umath->numpy>=1.19.5->scikit-learn==1.6.1) (2024.2.0)\n",
      "Requirement already satisfied: intel-cmplr-lib-ur==2024.2.0 in /usr/local/lib/python3.11/dist-packages (from intel-openmp<2026,>=2024->mkl->numpy>=1.19.5->scikit-learn==1.6.1) (2024.2.0)\n",
      "Downloading scikit_learn-1.6.1-cp311-cp311-manylinux_2_17_x86_64.manylinux2014_x86_64.whl (13.5 MB)\n",
      "\u001b[2K   \u001b[90m━━━━━━━━━━━━━━━━━━━━━━━━━━━━━━━━━━━━━━━━\u001b[0m \u001b[32m13.5/13.5 MB\u001b[0m \u001b[31m91.5 MB/s\u001b[0m eta \u001b[36m0:00:00\u001b[0m:00:01\u001b[0m:01\u001b[0m\n",
      "\u001b[?25hInstalling collected packages: scikit-learn\n",
      "  Attempting uninstall: scikit-learn\n",
      "    Found existing installation: scikit-learn 1.2.2\n",
      "    Uninstalling scikit-learn-1.2.2:\n",
      "      Successfully uninstalled scikit-learn-1.2.2\n",
      "\u001b[31mERROR: pip's dependency resolver does not currently take into account all the packages that are installed. This behaviour is the source of the following dependency conflicts.\n",
      "category-encoders 2.7.0 requires scikit-learn<1.6.0,>=1.0.0, but you have scikit-learn 1.6.1 which is incompatible.\n",
      "bigframes 1.36.0 requires rich<14,>=12.4.4, but you have rich 14.0.0 which is incompatible.\u001b[0m\u001b[31m\n",
      "\u001b[0mSuccessfully installed scikit-learn-1.6.1\n",
      "Note: you may need to restart the kernel to use updated packages.\n"
     ]
    }
   ],
   "source": [
    "pip install -U scikit-learn==1.6.1"
   ]
  },
  {
   "cell_type": "code",
   "execution_count": 7,
   "id": "63591c19",
   "metadata": {
    "execution": {
     "iopub.execute_input": "2025-04-16T06:41:18.760415Z",
     "iopub.status.busy": "2025-04-16T06:41:18.760163Z",
     "iopub.status.idle": "2025-04-16T06:41:26.134572Z",
     "shell.execute_reply": "2025-04-16T06:41:26.133903Z",
     "shell.execute_reply.started": "2025-04-16T06:41:18.760393Z"
    },
    "trusted": true
   },
   "outputs": [],
   "source": [
    "import torch\n",
    "import torch.nn as nn\n",
    "import torch.nn.functional as F\n",
    "import numpy as np\n",
    "from sklearn.metrics import accuracy_score, classification_report, confusion_matrix\n",
    "import matplotlib.pyplot as plt\n",
    "import seaborn as sns\n",
    "import joblib\n",
    "import pandas as pd\n",
    "import os\n",
    "from sklearn.preprocessing import RobustScaler\n",
    "import pickle"
   ]
  },
  {
   "cell_type": "code",
   "execution_count": 8,
   "id": "95ceab15-45fa-4944-9121-6d0743de3633",
   "metadata": {
    "execution": {
     "iopub.execute_input": "2025-04-16T06:41:26.135906Z",
     "iopub.status.busy": "2025-04-16T06:41:26.135277Z",
     "iopub.status.idle": "2025-04-16T06:41:26.143596Z",
     "shell.execute_reply": "2025-04-16T06:41:26.142758Z",
     "shell.execute_reply.started": "2025-04-16T06:41:26.135886Z"
    },
    "trusted": true
   },
   "outputs": [],
   "source": [
    "class CNNModel(nn.Module):\n",
    "    def __init__(self, input_size, num_classes):\n",
    "        super(CNNModel, self).__init__()\n",
    "        self.conv1 = nn.Conv1d(in_channels=1, out_channels=64, kernel_size=8)\n",
    "        self.bn1 = nn.BatchNorm1d(64)\n",
    "        self.conv2 = nn.Conv1d(64, 128, kernel_size=8)\n",
    "        self.bn2 = nn.BatchNorm1d(128)\n",
    "        self.pool1 = nn.MaxPool1d(kernel_size=4, padding=2)\n",
    "        self.dropout1 = nn.Dropout(0.5)\n",
    "        self.conv3 = nn.Conv1d(128, 128, kernel_size=8)\n",
    "        self.bn3 = nn.BatchNorm1d(128)\n",
    "        self.pool2 = nn.MaxPool1d(kernel_size=4, padding=2)\n",
    "        self.dropout2 = nn.Dropout(0.5)\n",
    "        self.conv4 = nn.Conv1d(128, 64, kernel_size=3, padding=2)\n",
    "        self.bn4 = nn.BatchNorm1d(64)\n",
    "        self.fc1 = nn.Linear(512, 256)\n",
    "        self.dropout3 = nn.Dropout(0.5)\n",
    "        self.fc2 = nn.Linear(256, num_classes)\n",
    "    \n",
    "    def forward(self, x):\n",
    "        x = F.relu(self.bn1(self.conv1(x)))\n",
    "        x = F.relu(self.bn2(self.conv2(x)))\n",
    "        x = self.pool1(x)\n",
    "        x = self.dropout1(x)\n",
    "        x = F.relu(self.bn3(self.conv3(x)))\n",
    "        x = self.pool2(x)\n",
    "        x = self.dropout2(x)\n",
    "        x = F.relu(self.bn4(self.conv4(x)))\n",
    "        x = x.view(x.size(0), -1)\n",
    "        x = F.relu(self.fc1(x))\n",
    "        x = self.dropout3(x)\n",
    "        x = self.fc2(x)\n",
    "        return x"
   ]
  },
  {
   "cell_type": "code",
   "execution_count": 9,
   "id": "eadc30c5-4f11-46a6-8618-e599ba36161e",
   "metadata": {
    "execution": {
     "iopub.execute_input": "2025-04-16T06:41:26.145421Z",
     "iopub.status.busy": "2025-04-16T06:41:26.145180Z",
     "iopub.status.idle": "2025-04-16T06:41:26.168172Z",
     "shell.execute_reply": "2025-04-16T06:41:26.167413Z",
     "shell.execute_reply.started": "2025-04-16T06:41:26.145401Z"
    },
    "trusted": true
   },
   "outputs": [],
   "source": [
    "class EmotionLSTM(nn.Module):\n",
    "    def __init__(self, input_size, hidden_size=128, num_classes=8, dropout_rate=0.3):\n",
    "        super(EmotionLSTM, self).__init__()\n",
    "        \n",
    "        self.lstm = nn.LSTM(input_size, hidden_size, batch_first=True, bidirectional=True)\n",
    "        self.dropout = nn.Dropout(dropout_rate)\n",
    "        \n",
    "        self.bn = nn.BatchNorm1d(hidden_size*2)\n",
    "        self.fc1 = nn.Linear(hidden_size*2, hidden_size)\n",
    "        self.relu = nn.ReLU()\n",
    "        self.fc2 = nn.Linear(hidden_size, num_classes)\n",
    "        \n",
    "    def forward(self, x):\n",
    "        lstm_out, _ = self.lstm(x)\n",
    "        \n",
    "        if lstm_out.size(1) == 1:\n",
    "            lstm_out = lstm_out.squeeze(1)\n",
    "        else:\n",
    "            lstm_out = lstm_out[:, -1, :]\n",
    "        \n",
    "        lstm_out = self.bn(lstm_out)\n",
    "        lstm_out = self.dropout(lstm_out)\n",
    "        \n",
    "        x = self.fc1(lstm_out)\n",
    "        x = self.relu(x)\n",
    "        x = self.dropout(x)\n",
    "        x = self.fc2(x)\n",
    "        \n",
    "        return x"
   ]
  },
  {
   "cell_type": "code",
   "execution_count": 10,
   "id": "ed310b8f-6888-49ee-abc4-82d386c1c0d0",
   "metadata": {
    "execution": {
     "iopub.execute_input": "2025-04-16T06:41:26.169206Z",
     "iopub.status.busy": "2025-04-16T06:41:26.168924Z",
     "iopub.status.idle": "2025-04-16T06:41:26.181407Z",
     "shell.execute_reply": "2025-04-16T06:41:26.180756Z",
     "shell.execute_reply.started": "2025-04-16T06:41:26.169182Z"
    },
    "trusted": true
   },
   "outputs": [],
   "source": [
    "NUM_EMOTIONS = 8 \n",
    "EMOTION_LABELS = ['neutral', 'calm', 'happy', 'sad', 'angry', 'fearful', 'disgust', 'surprised']\n",
    "\n",
    "class VotingEnsemble(nn.Module):\n",
    "    def __init__(self, speech_model, facial_model):\n",
    "        super(VotingEnsemble, self).__init__()\n",
    "        self.speech_model = speech_model\n",
    "        self.facial_model = facial_model\n",
    "        \n",
    "        for param in self.speech_model.parameters():\n",
    "            param.requires_grad = False\n",
    "        for param in self.facial_model.parameters():\n",
    "            param.requires_grad = False\n",
    "            \n",
    "        self.speech_weight = nn.Parameter(torch.tensor(0.5))\n",
    "        self.facial_weight = nn.Parameter(torch.tensor(0.5))\n",
    "        \n",
    "    def forward(self, speech_input, facial_input):\n",
    "        speech_out = self.speech_model(speech_input)\n",
    "        facial_out = self.facial_model(facial_input)\n",
    "        \n",
    "        speech_probs = torch.softmax(speech_out, dim=1) * torch.sigmoid(self.speech_weight)\n",
    "        facial_probs = torch.softmax(facial_out, dim=1) * torch.sigmoid(self.facial_weight)\n",
    "        weighted_avg = (speech_probs + facial_probs) / (torch.sigmoid(self.speech_weight) + torch.sigmoid(self.facial_weight))\n",
    "        \n",
    "        return weighted_avg  "
   ]
  },
  {
   "cell_type": "code",
   "execution_count": 11,
   "id": "b89f4d53-aa63-4333-8958-1b879b64af9d",
   "metadata": {
    "execution": {
     "iopub.execute_input": "2025-04-16T06:41:26.182605Z",
     "iopub.status.busy": "2025-04-16T06:41:26.182324Z",
     "iopub.status.idle": "2025-04-16T06:41:26.198217Z",
     "shell.execute_reply": "2025-04-16T06:41:26.197627Z",
     "shell.execute_reply.started": "2025-04-16T06:41:26.182582Z"
    },
    "trusted": true
   },
   "outputs": [],
   "source": [
    "def evaluate_model(model, speech_data, facial_data, labels, device='cuda'):\n",
    "    model.eval()\n",
    "    \n",
    "    speech_data = speech_data.to(device)\n",
    "    facial_data = facial_data.to(device)\n",
    "    labels = labels.to(device)\n",
    "    \n",
    "    with torch.no_grad():\n",
    "        outputs = model(speech_data, facial_data)\n",
    "        _, predicted = torch.max(outputs, 1)\n",
    "        \n",
    "        predicted_np = predicted.cpu().numpy()\n",
    "        labels_np = labels.cpu().numpy()\n",
    "        \n",
    "        acc = accuracy_score(labels_np, predicted_np)\n",
    "        report = classification_report(labels_np, predicted_np, target_names=EMOTION_LABELS, output_dict=True)\n",
    "        conf_matrix = confusion_matrix(labels_np, predicted_np)\n",
    "        \n",
    "        per_class_acc = report['weighted avg']['precision']\n",
    "        \n",
    "        return {\n",
    "            'accuracy': acc,\n",
    "            'per_class_accuracy': per_class_acc,\n",
    "            'classification_report': report,\n",
    "            'confusion_matrix': conf_matrix\n",
    "        }\n",
    "\n",
    "def visualize_confusion_matrix(conf_matrix, class_names=EMOTION_LABELS):\n",
    "    plt.figure(figsize=(10, 8))\n",
    "    sns.heatmap(conf_matrix, annot=True, fmt='d', cmap='Blues', \n",
    "                xticklabels=class_names, yticklabels=class_names)\n",
    "    plt.xlabel('Predicted')\n",
    "    plt.ylabel('True')\n",
    "    plt.title('Confusion Matrix')\n",
    "    plt.tight_layout()\n",
    "    plt.savefig('confusion_matrix.png')\n",
    "    plt.show()\n",
    "\n",
    "def evaluate_individual_vs_ensemble(speech_model, facial_model, ensemble_model, \n",
    "                                   speech_data, facial_data, labels, device='cuda'):\n",
    "    speech_data = speech_data.to(device)\n",
    "    facial_data = facial_data.to(device)\n",
    "    labels = labels.to(device)\n",
    "    \n",
    "    speech_model.eval()\n",
    "    facial_model.eval()\n",
    "    ensemble_model.eval()\n",
    "    \n",
    "    with torch.no_grad():\n",
    "        speech_outputs = speech_model(speech_data)\n",
    "        facial_outputs = facial_model(facial_data)\n",
    "        ensemble_outputs = ensemble_model(speech_data, facial_data)\n",
    "        \n",
    "        _, speech_preds = torch.max(speech_outputs, 1)\n",
    "        _, facial_preds = torch.max(facial_outputs, 1)\n",
    "        _, ensemble_preds = torch.max(ensemble_outputs, 1)\n",
    "        \n",
    "        speech_preds_np = speech_preds.cpu().numpy()\n",
    "        facial_preds_np = facial_preds.cpu().numpy()\n",
    "        ensemble_preds_np = ensemble_preds.cpu().numpy()\n",
    "        labels_np = labels.cpu().numpy()\n",
    "        \n",
    "        speech_acc = accuracy_score(labels_np, speech_preds_np)\n",
    "        facial_acc = accuracy_score(labels_np, facial_preds_np)\n",
    "        ensemble_acc = accuracy_score(labels_np, ensemble_preds_np)\n",
    "        \n",
    "        speech_report = classification_report(labels_np, speech_preds_np, \n",
    "                                             target_names=EMOTION_LABELS, output_dict=True)\n",
    "        facial_report = classification_report(labels_np, facial_preds_np, \n",
    "                                             target_names=EMOTION_LABELS, output_dict=True)\n",
    "        ensemble_report = classification_report(labels_np, ensemble_preds_np, \n",
    "                                              target_names=EMOTION_LABELS, output_dict=True)\n",
    "        \n",
    "        speech_cm = confusion_matrix(labels_np, speech_preds_np)\n",
    "        facial_cm = confusion_matrix(labels_np, facial_preds_np)\n",
    "        ensemble_cm = confusion_matrix(labels_np, ensemble_preds_np)\n",
    "        \n",
    "        return {\n",
    "            'speech': {\n",
    "                'accuracy': speech_acc,\n",
    "                'classification_report': speech_report,\n",
    "                'confusion_matrix': speech_cm\n",
    "            },\n",
    "            'facial': {\n",
    "                'accuracy': facial_acc,\n",
    "                'classification_report': facial_report,\n",
    "                'confusion_matrix': facial_cm\n",
    "            },\n",
    "            'ensemble': {\n",
    "                'accuracy': ensemble_acc,\n",
    "                'classification_report': ensemble_report,\n",
    "                'confusion_matrix': ensemble_cm\n",
    "            }\n",
    "        }\n",
    "\n",
    "def plot_comparison(results):\n",
    "    models = ['Speech Model', 'Facial Model', 'Ensemble Model']\n",
    "    accuracies = [\n",
    "        results['speech']['accuracy'] * 100,\n",
    "        results['facial']['accuracy'] * 100,\n",
    "        results['ensemble']['accuracy'] * 100\n",
    "    ]\n",
    "    \n",
    "    plt.figure(figsize=(10, 6))\n",
    "    bars = plt.bar(models, accuracies, color=['blue', 'green', 'red'])\n",
    "    \n",
    "    for bar in bars:\n",
    "        height = bar.get_height()\n",
    "        plt.text(bar.get_x() + bar.get_width()/2., height + 0.5,\n",
    "                f'{height:.2f}%', ha='center', va='bottom')\n",
    "    \n",
    "    plt.ylabel('Accuracy (%)')\n",
    "    plt.title('Model Comparison')\n",
    "    plt.ylim(0, 100)  \n",
    "    plt.grid(axis='y', linestyle='--', alpha=0.7)\n",
    "    plt.tight_layout()\n",
    "    plt.savefig('model_comparison.png')\n",
    "    plt.show()"
   ]
  },
  {
   "cell_type": "code",
   "execution_count": 12,
   "id": "3b23d295-efa7-4c66-a7d6-fe50bda7db0a",
   "metadata": {
    "execution": {
     "iopub.execute_input": "2025-04-16T06:41:26.198951Z",
     "iopub.status.busy": "2025-04-16T06:41:26.198781Z",
     "iopub.status.idle": "2025-04-16T06:41:28.892338Z",
     "shell.execute_reply": "2025-04-16T06:41:28.891542Z",
     "shell.execute_reply.started": "2025-04-16T06:41:26.198937Z"
    },
    "trusted": true
   },
   "outputs": [
    {
     "name": "stdout",
     "output_type": "stream",
     "text": [
      "Speech Model Accuracy: 0.9825\n",
      "Facial Model Accuracy: 0.9123\n",
      "Ensemble Model Accuracy: 0.9474\n"
     ]
    },
    {
     "data": {
      "image/png": "[encoded data removed]",
      "text/plain": [
       "<Figure size 1000x600 with 1 Axes>"
      ]
     },
     "metadata": {},
     "output_type": "display_data"
    },
    {
     "data": {
      "image/png": "[encoded data removed]",
      "text/plain": [
       "<Figure size 1000x800 with 2 Axes>"
      ]
     },
     "metadata": {},
     "output_type": "display_data"
    },
    {
     "name": "stdout",
     "output_type": "stream",
     "text": [
      "\n",
      "Ensemble Classification Report:\n",
      "neutral: precision=1.00, recall=1.00, f1-score=1.00\n",
      "calm: precision=0.78, recall=0.88, f1-score=0.82\n",
      "happy: precision=1.00, recall=1.00, f1-score=1.00\n",
      "sad: precision=1.00, recall=1.00, f1-score=1.00\n",
      "angry: precision=1.00, recall=0.78, f1-score=0.88\n",
      "fearful: precision=0.80, recall=1.00, f1-score=0.89\n",
      "disgust: precision=1.00, recall=1.00, f1-score=1.00\n",
      "surprised: precision=1.00, recall=1.00, f1-score=1.00\n",
      "macro avg: precision=0.95, recall=0.96, f1-score=0.95\n",
      "weighted avg: precision=0.95, recall=0.95, f1-score=0.95\n"
     ]
    }
   ],
   "source": [
    "def main():\n",
    "    device = torch.device('cuda' if torch.cuda.is_available() else 'cpu')\n",
    "    \n",
    "    df_speech = pd.read_csv(\"C:/Nini/Capstone/CSV_Files/Speech data/Speech_Test1_preprocessed_new.csv\")\n",
    "    X_speech = df_speech.drop(columns=['Path','Unnamed: 0','Emotion']).values \n",
    "    X_tensor_speech = torch.tensor(X_speech, dtype=torch.float32).unsqueeze(1)\n",
    "    torch.save(X_tensor_speech, \"C:/Nini/Capstone/CSV_Files/Speech data/speech_test_data.pt\")\n",
    "    speech_test_data = torch.load(\"C:/Nini/Capstone/CSV_Files/Speech data/speech_test_data.pt\", weights_only=True)\n",
    "\n",
    "    df_face = pd.read_excel(\"C:/Nini/Capstone/CSV_Files/Facial data/New Facial Data/FaceTest(e)(arranged).xlsx\")\n",
    "    X_face = df_face.drop(columns=['video_path','emotion']).values\n",
    "    scaler = RobustScaler()\n",
    "    X_face_scaled = scaler.fit_transform(X_face)\n",
    "    X_tensor_face = torch.tensor(X_face_scaled, dtype=torch.float32).reshape((X_face_scaled.shape[0], 1, X_face_scaled.shape[1]))\n",
    "    torch.save(X_tensor_face, 'C:/Nini/Capstone/CSV_Files/Facial data/New Facial Data/face_test_data.pt')\n",
    "    facial_test_data = torch.load('C:/Nini/Capstone/CSV_Files/Facial data/New Facial Data/face_test_data.pt', weights_only=True)\n",
    "\n",
    "    with open(\"C:/Nini/Capstone/src/Model_training/label_encoder.pkl\", 'rb') as f:\n",
    "        label_encoder = pickle.load(f)\n",
    "    test_labels = df_speech['Emotion'].values\n",
    "    test_labels_encoded = label_encoder.transform(test_labels)\n",
    "    test_labels_tensor = torch.tensor(test_labels_encoded, dtype=torch.long)\n",
    "    torch.save(test_labels_tensor, \"C:/Nini/Capstone/CSV_Files/Speech data/test_labels.pt\")\n",
    "    test_labels = torch.load('C:/Nini/Capstone/CSV_Files/Speech data/test_labels.pt', weights_only=True)\n",
    "    \n",
    "    speech_model = CNNModel(input_size=X_speech.shape[1], num_classes=8).to(device)\n",
    "    facial_model = EmotionLSTM(input_size=X_face.shape[1]).to(device)\n",
    "    \n",
    "    speech_model.load_state_dict(torch.load(\"C:/Nini/Capstone/Models/DataAugmentation_cnn_model_new_final_1.pth\", weights_only=True))\n",
    "    facial_model.load_state_dict(torch.load(\"C:/Nini/Capstone/Models/emotion_lstm_model-7.pth\", weights_only=True))\n",
    "    \n",
    "    ensemble_model = VotingEnsemble(speech_model, facial_model).to(device)\n",
    "    \n",
    "    results = evaluate_individual_vs_ensemble(\n",
    "        speech_model, facial_model, ensemble_model,\n",
    "        speech_test_data, facial_test_data, test_labels, device\n",
    "    )\n",
    "\n",
    "    print(f\"Speech Model Accuracy: {results['speech']['accuracy']:.4f}\")\n",
    "    print(f\"Facial Model Accuracy: {results['facial']['accuracy']:.4f}\")\n",
    "    print(f\"Ensemble Model Accuracy: {results['ensemble']['accuracy']:.4f}\")\n",
    "\n",
    "    plot_comparison(results)\n",
    "    \n",
    "    visualize_confusion_matrix(results['ensemble']['confusion_matrix'])\n",
    "    \n",
    "    print(\"\\nEnsemble Classification Report:\")\n",
    "    for emotion, metrics in results['ensemble']['classification_report'].items():\n",
    "        if isinstance(metrics, dict):\n",
    "            print(f\"{emotion}: precision={metrics['precision']:.2f}, recall={metrics['recall']:.2f}, f1-score={metrics['f1-score']:.2f}\")\n",
    "\n",
    "if __name__ == \"__main__\":\n",
    "    main()"
   ]
  },
  {
   "cell_type": "code",
   "execution_count": null,
   "id": "008acb78",
   "metadata": {},
   "outputs": [],
   "source": []
  }
 ],
 "metadata": {
  "kaggle": {
   "accelerator": "nvidiaTeslaT4",
   "dataSources": [
    {
     "datasetId": 7125212,
     "sourceId": 11379962,
     "sourceType": "datasetVersion"
    },
    {
     "datasetId": 7146264,
     "sourceId": 11408303,
     "sourceType": "datasetVersion"
    },
    {
     "datasetId": 7156417,
     "sourceId": 11426460,
     "sourceType": "datasetVersion"
    },
    {
     "modelId": 303783,
     "modelInstanceId": 282917,
     "sourceId": 338350,
     "sourceType": "modelInstanceVersion"
    },
    {
     "isSourceIdPinned": true,
     "modelId": 305202,
     "modelInstanceId": 284359,
     "sourceId": 340045,
     "sourceType": "modelInstanceVersion"
    }
   ],
   "dockerImageVersionId": 31011,
   "isGpuEnabled": true,
   "isInternetEnabled": true,
   "language": "python",
   "sourceType": "notebook"
  },
  "kernelspec": {
   "display_name": "capstone_env",
   "language": "python",
   "name": "python3"
  },
  "language_info": {
   "codemirror_mode": {
    "name": "ipython",
    "version": 3
   },
   "file_extension": ".py",
   "mimetype": "text/x-python",
   "name": "python",
   "nbconvert_exporter": "python",
   "pygments_lexer": "ipython3",
   "version": "3.11.6"
  }
 },
 "nbformat": 4,
 "nbformat_minor": 5
}
