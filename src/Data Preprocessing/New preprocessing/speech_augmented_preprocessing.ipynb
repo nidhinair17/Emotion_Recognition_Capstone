{
 "cells": [
  {
   "cell_type": "code",
   "execution_count": 3,
   "id": "f51b2095",
   "metadata": {},
   "outputs": [],
   "source": [
    "import IPython.display as ipd\n",
    "import librosa\n",
    "import librosa.display\n",
    "import pandas as pd\n",
    "import numpy as np\n",
    "import os\n",
    "import soxr"
   ]
  },
  {
   "cell_type": "code",
   "execution_count": 2,
   "id": "666f6411",
   "metadata": {},
   "outputs": [],
   "source": [
    "Augmented_data = \"C:/Nini/Capstone/AudioFilesAugmented\""
   ]
  },
  {
   "cell_type": "code",
   "execution_count": 5,
   "id": "44e261a8",
   "metadata": {},
   "outputs": [],
   "source": [
    "train_data = pd.read_excel(\"C:/Nini/Capstone/CSV_Files/Facial data/Train.xlsx\")"
   ]
  },
  {
   "cell_type": "code",
   "execution_count": 9,
   "id": "d12c0243",
   "metadata": {},
   "outputs": [],
   "source": [
    "video_names = train_data['video_name'].drop_duplicates().to_list()"
   ]
  },
  {
   "cell_type": "code",
   "execution_count": 11,
   "id": "df60b079",
   "metadata": {},
   "outputs": [
    {
     "data": {
      "text/plain": [
       "1147"
      ]
     },
     "execution_count": 11,
     "metadata": {},
     "output_type": "execute_result"
    }
   ],
   "source": [
    "len(video_names)"
   ]
  },
  {
   "cell_type": "code",
   "execution_count": null,
   "id": "fc11309b",
   "metadata": {},
   "outputs": [],
   "source": []
  }
 ],
 "metadata": {
  "kernelspec": {
   "display_name": "capstone_env",
   "language": "python",
   "name": "python3"
  },
  "language_info": {
   "codemirror_mode": {
    "name": "ipython",
    "version": 3
   },
   "file_extension": ".py",
   "mimetype": "text/x-python",
   "name": "python",
   "nbconvert_exporter": "python",
   "pygments_lexer": "ipython3",
   "version": "3.11.6"
  }
 },
 "nbformat": 4,
 "nbformat_minor": 5
}
