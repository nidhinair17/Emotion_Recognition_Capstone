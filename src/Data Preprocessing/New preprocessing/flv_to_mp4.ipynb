{
 "cells": [
  {
   "cell_type": "code",
   "execution_count": 6,
   "id": "505aa298",
   "metadata": {},
   "outputs": [
    {
     "name": "stdout",
     "output_type": "stream",
     "text": [
      "{'video_found': True, 'audio_found': True, 'metadata': {'audiodelay': '0', 'canSeekToEnd': 'true'}, 'inputs': [{'streams': [{'input_number': 0, 'stream_number': 0, 'stream_type': 'data', 'language': None, 'default': True}, {'input_number': 0, 'stream_number': 1, 'stream_type': 'audio', 'language': None, 'default': False, 'fps': 44100, 'bitrate': 262}, {'input_number': 0, 'stream_number': 2, 'stream_type': 'video', 'language': None, 'default': False, 'size': [480, 360], 'bitrate': 823, 'fps': 29.97002997002997, 'codec_name': 'vp6f', 'profile': None}], 'input_number': 0}], 'duration': 2.5, 'bitrate': 1011, 'start': 0.0, 'default_data_input_number': 0, 'default_data_stream_number': 0, 'video_codec_name': 'vp6f', 'video_profile': None, 'video_size': [480, 360], 'video_bitrate': 823, 'video_fps': 29.97002997002997, 'video_duration': 2.5, 'video_n_frames': 74, 'audio_bitrate': 262}\n",
      "c:\\Nini\\Capstone\\src\\capstone_env\\Lib\\site-packages\\imageio_ffmpeg\\binaries\\ffmpeg-win-x86_64-v7.1.exe -i C:/Nini/Crema-D/Crema-D/CREMA-D/VideoFlash/1001_TSI_ANG_XX.flv -loglevel error -f image2pipe -vf scale=480:360 -sws_flags bicubic -pix_fmt rgb24 -vcodec rawvideo -\n",
      "MoviePy - Building video C:/Nini/Capstone/Test/1001_TSI_ANG_XX.mp4.\n",
      "MoviePy - Writing audio in 1001_TSI_ANG_XXTEMP_MPY_wvf_snd.mp4\n"
     ]
    },
    {
     "name": "stderr",
     "output_type": "stream",
     "text": [
      "                                                       \r"
     ]
    },
    {
     "name": "stdout",
     "output_type": "stream",
     "text": [
      "MoviePy - Done.\n",
      "MoviePy - Writing video C:/Nini/Capstone/Test/1001_TSI_ANG_XX.mp4\n",
      "\n"
     ]
    },
    {
     "name": "stderr",
     "output_type": "stream",
     "text": [
      "                                                             \r"
     ]
    },
    {
     "name": "stdout",
     "output_type": "stream",
     "text": [
      "MoviePy - Done !\n",
      "MoviePy - video ready C:/Nini/Capstone/Test/1001_TSI_ANG_XX.mp4\n"
     ]
    }
   ],
   "source": [
    "from moviepy.video.io.VideoFileClip import VideoFileClip\n",
    "\n",
    "# Load your FLV video\n",
    "clip = VideoFileClip(\"C:/Nini/Crema-D/Crema-D/CREMA-D/VideoFlash/1001_TSI_ANG_XX.flv\")\n",
    "\n",
    "# Save it as MP4\n",
    "clip.write_videofile(\"C:/Nini/Capstone/Test/1001_TSI_ANG_XX.mp4\", codec=\"libx264\", audio_codec=\"aac\")"
   ]
  },
  {
   "cell_type": "code",
   "execution_count": null,
   "id": "c43d655b",
   "metadata": {},
   "outputs": [],
   "source": []
  }
 ],
 "metadata": {
  "kernelspec": {
   "display_name": "capstone_env",
   "language": "python",
   "name": "python3"
  },
  "language_info": {
   "codemirror_mode": {
    "name": "ipython",
    "version": 3
   },
   "file_extension": ".py",
   "mimetype": "text/x-python",
   "name": "python",
   "nbconvert_exporter": "python",
   "pygments_lexer": "ipython3",
   "version": "3.11.6"
  }
 },
 "nbformat": 4,
 "nbformat_minor": 5
}
